{
  "nbformat": 4,
  "nbformat_minor": 0,
  "metadata": {
    "colab": {
      "provenance": [],
      "mount_file_id": "1Mdg9wdpdiwWZOIdEvZDP5d0ibOiQm2WC",
      "authorship_tag": "ABX9TyNXdgWApUlF7GQejIiqtXrc",
      "include_colab_link": true
    },
    "kernelspec": {
      "name": "python3",
      "display_name": "Python 3"
    },
    "language_info": {
      "name": "python"
    }
  },
  "cells": [
    {
      "cell_type": "markdown",
      "metadata": {
        "id": "view-in-github",
        "colab_type": "text"
      },
      "source": [
        "<a href=\"https://colab.research.google.com/github/lgregs/TCC-CD-USP/blob/main/use_db.ipynb\" target=\"_parent\"><img src=\"https://colab.research.google.com/assets/colab-badge.svg\" alt=\"Open In Colab\"/></a>"
      ]
    },
    {
      "cell_type": "code",
      "source": [
        "import sqlite3\n",
        "import pandas as pd"
      ],
      "metadata": {
        "id": "CCcMzgHEQfpT"
      },
      "execution_count": 1,
      "outputs": []
    },
    {
      "cell_type": "code",
      "execution_count": 2,
      "metadata": {
        "colab": {
          "base_uri": "https://localhost:8080/"
        },
        "id": "CagrMQvdQYuL",
        "outputId": "c4bf7a00-a54e-45d2-8d9e-bce7ff56c1cc"
      },
      "outputs": [
        {
          "output_type": "stream",
          "name": "stdout",
          "text": [
            "Conexão bem-sucedida ao banco de dados: /content/drive/MyDrive/TCC/balancos.sqlite\n",
            "Dados CompanyCode e Year carregados com sucesso. Conexão SQL fechada.\n",
            "\n",
            "Iniciando busca por períodos contínuos entre 2008 e 2024...\n",
            "\n",
            "--- Períodos Contínuos com Mais de 10 Anos e Mais de 100 Empresas ---\n",
            "Total de 6 períodos encontrados que atendem aos critérios.\n",
            "\n",
            "--- Período 1 ---\n",
            "Período: **2010 a 2024** (Duração: **15 anos**)\n",
            "Número de Empresas: **293**\n",
            "Exemplo de Empresas: ['ACSEL', 'ADEL', 'ADESE', 'AEFES', 'AFYON'] e mais 288 empresas.\n",
            "\n",
            "--- Período 2 ---\n",
            "Período: **2008 a 2024** (Duração: **17 anos**)\n",
            "Número de Empresas: **227**\n",
            "Exemplo de Empresas: ['ADEL', 'AEFES', 'AFYON', 'AGHOL', 'AGYO'] e mais 222 empresas.\n",
            "\n",
            "--- Período 3 ---\n",
            "Período: **2008 a 2023** (Duração: **16 anos**)\n",
            "Número de Empresas: **227**\n",
            "Exemplo de Empresas: ['ADEL', 'AEFES', 'AFYON', 'AGHOL', 'AGYO'] e mais 222 empresas.\n",
            "\n",
            "--- Período 4 ---\n",
            "Período: **2009 a 2024** (Duração: **16 anos**)\n",
            "Número de Empresas: **227**\n",
            "Exemplo de Empresas: ['ADEL', 'AEFES', 'AFYON', 'AGHOL', 'AGYO'] e mais 222 empresas.\n",
            "\n",
            "--- Período 5 ---\n",
            "Período: **2008 a 2022** (Duração: **15 anos**)\n",
            "Número de Empresas: **227**\n",
            "Exemplo de Empresas: ['ADEL', 'AEFES', 'AFYON', 'AGHOL', 'AGYO'] e mais 222 empresas.\n"
          ]
        }
      ],
      "source": [
        "db_file = '/content/drive/MyDrive/TCC/balancos.sqlite'\n",
        "\n",
        "try:\n",
        "    conn = sqlite3.connect(db_file)\n",
        "    print(f\"Conexão bem-sucedida ao banco de dados: {db_file}\")\n",
        "\n",
        "    # Carregar todos os pares (CompanyCode, Year) para o Python\n",
        "    # GROUP BY CompanyCode, Year garante que temos apenas um registro por empresa por ano\n",
        "    query = \"\"\"\n",
        "    SELECT CompanyCode, Year\n",
        "    FROM balancos_financeiros\n",
        "    GROUP BY CompanyCode, Year;\n",
        "    \"\"\"\n",
        "    df_company_years = pd.read_sql_query(query, conn)\n",
        "\n",
        "    # Desconecta do banco de dados após carregar o necessário para liberar recursos\n",
        "    conn.close()\n",
        "    print(\"Dados CompanyCode e Year carregados com sucesso. Conexão SQL fechada.\")\n",
        "\n",
        "except Exception as e:\n",
        "    print(f\"ERRO: Não foi possível conectar ao banco de dados ou carregar dados iniciais: {e}\")\n",
        "    # Certifique-se de que a conexão é fechada mesmo em caso de erro\n",
        "    if 'conn' in locals() and conn:\n",
        "        conn.close()\n",
        "    exit() # Interrompe a execução se houver um erro crítico aqui\n",
        "\n",
        "# 2. Encontrar o range de anos para iterar\n",
        "min_global_year = df_company_years['Year'].min()\n",
        "max_global_year = df_company_years['Year'].max()\n",
        "\n",
        "# Estrutura para armazenar TODOS os resultados qualificados\n",
        "all_qualified_periods = []\n",
        "\n",
        "# Agrupa os anos por empresa em um set ANTES dos loops para evitar recalculo repetitivo\n",
        "company_year_sets = df_company_years.groupby('CompanyCode')['Year'].apply(set)\n",
        "\n",
        "print(f\"\\nIniciando busca por períodos contínuos entre {min_global_year} e {max_global_year}...\")\n",
        "\n",
        "# Iterar sobre todos os possíveis anos de início\n",
        "for start_year in range(min_global_year, max_global_year + 1):\n",
        "    # Iterar sobre todos os possíveis anos de fim, a partir do ano de início\n",
        "    for end_year in range(start_year, max_global_year + 1):\n",
        "        period_length = end_year - start_year + 1\n",
        "\n",
        "        # Filtro: queremos apenas períodos com mais de 5 anos\n",
        "        if period_length <= 5:\n",
        "            continue\n",
        "\n",
        "        current_period_years = set(range(start_year, end_year + 1))\n",
        "\n",
        "        qualified_companies = []\n",
        "        for company, years_present in company_year_sets.items():\n",
        "            # Verifica se o período atual está contido nos anos presentes da empresa\n",
        "            if current_period_years.issubset(years_present):\n",
        "                qualified_companies.append(company)\n",
        "\n",
        "        num_qualified_companies = len(qualified_companies)\n",
        "\n",
        "        if num_qualified_companies > 0: # Armazena apenas períodos com pelo menos 1 empresa\n",
        "            all_qualified_periods.append({\n",
        "                'start_year': start_year,\n",
        "                'end_year': end_year,\n",
        "                'period_length': period_length,\n",
        "                'num_companies': num_qualified_companies,\n",
        "                'companies': qualified_companies\n",
        "            })\n",
        "\n",
        "# 3. Classificar os períodos encontrados\n",
        "# Critério de ordenação: Primeiro por número de empresas (decrescente), depois por comprimento do período (decrescente)\n",
        "all_qualified_periods.sort(key=lambda x: (x['num_companies'], x['period_length']), reverse=True)\n",
        "\n",
        "# Supondo que 'all_qualified_periods' já foi gerada pelo código anterior\n",
        "# e contém os resultados da análise de períodos contínuos.\n",
        "\n",
        "long_periods_with_many_companies = [\n",
        "    period for period in all_qualified_periods\n",
        "    if period['period_length'] >= 15 and period['num_companies'] >= 50\n",
        "]\n",
        "\n",
        "# Opcional: Reordenar, embora 'all_qualified_periods' já esteja ordenada\n",
        "# long_periods_with_many_companies.sort(key=lambda x: (x['num_companies'], x['period_length']), reverse=True)\n",
        "\n",
        "print(f\"\\n--- Períodos Contínuos com Mais de 10 Anos e Mais de 100 Empresas ---\")\n",
        "\n",
        "if long_periods_with_many_companies:\n",
        "    print(f\"Total de {len(long_periods_with_many_companies)} períodos encontrados que atendem aos critérios.\")\n",
        "\n",
        "    # Imprimir os top N períodos (você pode ajustar N aqui)\n",
        "    top_n_periods_to_show = 5 # Mostra os 5 melhores desses períodos filtrados\n",
        "\n",
        "    for i, period in enumerate(long_periods_with_many_companies[:top_n_periods_to_show]):\n",
        "        print(f\"\\n--- Período {i+1} ---\")\n",
        "        print(f\"Período: **{period['start_year']} a {period['end_year']}** (Duração: **{period['period_length']} anos**)\")\n",
        "        print(f\"Número de Empresas: **{period['num_companies']}**\")\n",
        "\n",
        "        # Exemplo de Empresas (limita a exibição para não sobrecarregar)\n",
        "        if len(period['companies']) > 5:\n",
        "            print(f\"Exemplo de Empresas: {period['companies'][:5]} e mais {len(period['companies']) - 5} empresas.\")\n",
        "        else:\n",
        "            print(f\"Empresas: {period['companies']}\")\n",
        "else:\n",
        "    print(\"Nenhum período contínuo encontrado com mais de 15 anos e mais de 100 empresas.\")"
      ]
    },
    {
      "cell_type": "code",
      "source": [
        "import sqlite3\n",
        "import pandas as pd\n",
        "\n",
        "db_file = '/content/drive/MyDrive/TCC/balancos.sqlite'\n",
        "conn = sqlite3.connect(db_file)\n",
        "\n",
        "# Find target companies\n",
        "target_period = next(\n",
        "    (p for p in all_qualified_periods if p['start_year'] == 2008 and p['end_year'] == 2024),\n",
        "    None\n",
        ")\n",
        "\n",
        "if not target_period:\n",
        "    raise ValueError(\"Período 2 (2008-2024) not found!\")\n",
        "\n",
        "companies_tuple = tuple(target_period['companies'])\n",
        "years_tuple = tuple(range(2008, 2025))\n",
        "\n",
        "query = f\"\"\"\n",
        "SELECT *\n",
        "FROM balancos_financeiros\n",
        "WHERE CompanyCode IN {companies_tuple}\n",
        "AND Year IN {years_tuple};\n",
        "\"\"\"\n",
        "\n",
        "df_period2 = pd.read_sql_query(query, conn)\n",
        "\n",
        "# 🚀 Export directly to CSV\n",
        "df_period2.to_csv('balancos_periodo_2008_2024.csv', index=False)\n",
        "\n",
        "conn.close()\n",
        "\n",
        "print(\"CSV export complete: balancos_periodo_2008_2024.csv\")\n"
      ],
      "metadata": {
        "colab": {
          "base_uri": "https://localhost:8080/"
        },
        "id": "GV2jpyFTQo2k",
        "outputId": "244c422d-27ef-4c4e-c08f-93cac3b1699b"
      },
      "execution_count": 7,
      "outputs": [
        {
          "output_type": "stream",
          "name": "stdout",
          "text": [
            "CSV export complete: balancos_periodo_2008_2024.csv\n"
          ]
        }
      ]
    }
  ]
}