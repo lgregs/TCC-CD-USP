{
 "cells": [
  {
   "cell_type": "code",
   "execution_count": null,
   "id": "260e02b7",
   "metadata": {},
   "outputs": [],
   "source": [
    "import pandas as pd\n",
    "import numpy as np\n",
    "# df pivotado\n",
    "df=pd.read_csv('C:/Users/gregorio/TCC-CD-USP/archives/df_wide.csv')\n",
    "df.head()"
   ]
  },
  {
   "cell_type": "code",
   "execution_count": null,
   "id": "29630428",
   "metadata": {},
   "outputs": [],
   "source": [
    "# Drop das colunas >95% zeradas ou NA\n",
    "threshold = 0.45\n",
    "cols_to_drop = [\n",
    "    col for col in df.columns\n",
    "    if (df[col].isna().mean() > threshold) or ((df[col] == 0).mean() > threshold)\n",
    "]\n",
    "df = df.drop(columns=cols_to_drop)\n",
    "df.head()"
   ]
  },
  {
   "cell_type": "code",
   "execution_count": null,
   "id": "ce32aa78",
   "metadata": {},
   "outputs": [],
   "source": [
    "# LIMPEZA DOS NOMES DAS COLUNAS\n",
    "def clean_col_name(col_name):\n",
    "    name = col_name.strip()\n",
    "    name = name.replace(' ', '_').replace('(-)', '').replace('(PREJUÍZO)', '').replace('/', '_')\n",
    "    name = ''.join(e for e in name if e.isalnum() or e == '_')\n",
    "    name = name.lower()\n",
    "    name = name.strip('_')\n",
    "    return name\n",
    "\n",
    "df.columns = [clean_col_name(col) for col in df.columns]\n",
    "df.head()"
   ]
  },
  {
   "cell_type": "code",
   "execution_count": null,
   "id": "45c698f0",
   "metadata": {},
   "outputs": [],
   "source": [
    "df.columns.to_list()"
   ]
  },
  {
   "cell_type": "code",
   "execution_count": null,
   "id": "5b7772b7",
   "metadata": {},
   "outputs": [],
   "source": [
    "# 1. Lista completa das colunas originais (86 colunas)\n",
    "todas_as_colunas = [\n",
    "    'companycode', 'ano', 'investimentos_em_capital_fixo', 'subtotal', 'ajustes', \n",
    "    'amortização_e_quotas_de_exaustão', 'ativo_fiscal_diferido', 'ativos_circulantes', \n",
    "    'ativos_imobilizados', 'ativos_intangíveis', 'ativos_não_circulantes', \n",
    "    'aumento_diminuição_líquido_de_caixa_e_equivalentes_de_caixa_antes_do_efeito_das_diferenças_de_conversão_de_moeda_estrangeira', \n",
    "    'caixa_gerado_por_atividades_principais', 'caixa_e_equivalentes_de_caixa', \n",
    "    'caixa_no_final_do_período', 'capital_social_integralizado', 'contas_a_pagar', \n",
    "    'contas_a_receber', 'custo_dos_produtos_serviços_vendidos', 'despesas_financeiras', \n",
    "    'despesas_financeiras_não_operacionais', 'despesas_gerais_e_administrativas', \n",
    "    'despesas_de_amortização', 'despesas_de_atividades_de_investimento', \n",
    "    'despesas_de_marketing_vendas_e_distribuição', 'dívidas_financeiras', \n",
    "    'efeito_das_diferenças_de_conversão_de_moeda_estrangeira_sobre_o_caixa_e_equivalentes_de_caixa', \n",
    "    'estoques', 'fluxo_de_caixa_livre', 'fluxo_de_caixa_líquido_das_atividades_operacionais', \n",
    "    'fluxo_de_caixa_das_atividades_de_financiamento', 'fluxo_de_caixa_das_atividades_de_investimento', \n",
    "    'fluxo_de_caixa_de_outras_atividades_operacionais', 'fluxo_de_caixa_de_outras_atividades_de_financiamento', \n",
    "    'fluxo_de_caixa_de_outras_atividades_de_investimento', 'indenização_por_antiguidade', \n",
    "    'investimentos_financeiros', 'lucro__do_período', 'lucro_bruto', 'lucro_operacional', \n",
    "    'lucro_prejuízo_líquido_do_período_das_operações_continuadas', 'lucro_antes_dos_ajustes', \n",
    "    'lucro_bruto_prejuízo_de_atividades_comerciais', 'lucro_operacional_antes_das_mudanças_no_capital_de_giro', \n",
    "    'lucro_prejuízo_líquido_do_período', 'lucro_prejuízo_operacional_líquido', \n",
    "    'lucros_prejuízos_acumulados', 'mudança_nas_provisões', 'mudanças_no_capital_de_giro', \n",
    "    'outras_despesas_operacionais', 'outras_dívidas', 'outras_receitas_operacionais', \n",
    "    'outras_receitas_e_despesas_antes_do_imposto', 'outras_receitas_despesas', \n",
    "    'outros_ativos_circulantes', 'outros_ativos_não_circulantes', \n",
    "    'outros_itens_do_patrimônio_líquido', 'outros_passivos_circulantes', \n",
    "    'outros_recebíveis', 'pagamento_de_dividendos', 'participações_da_controladora', \n",
    "    'passivo_fiscal_diferido', 'passivos_circulantes', 'passivos_não_circulantes', \n",
    "    'patrimônio_líquido', 'patrimônio_líquido_atribuível_aos_acionistas_da_controladora', \n",
    "    'posição_cambial_líquida', 'posição_cambial_líquida_incluindo_hedge', \n",
    "    'posição_líquida_ativo_passivo_monetária_em_moeda_estrangeira', \n",
    "    'provisões_de_longo_prazo', 'provisões_para_dívidas', 'receita_despesa_de_imposto_diferido', \n",
    "    'receita_despesa_de_imposto_das_operações_continuadas', 'receita_despesa_de_imposto_do_período', \n",
    "    'receita_de_vendas', 'receitas_financeiras_não_operacionais', \n",
    "    'receitas_de_atividades_de_investimento', 'reservas_restritas_separadas_do_lucro', \n",
    "    'total_de_ativos', 'total_do_passivo_e_patrimônico_líquido', \n",
    "    'valores_de_caixa_no_início_do_período', 'variação_nas_dívidas_financeiras', \n",
    "    'variação_no_caixa_e_equivalentes', 'vendas_domésticas', 'vendas_internacionais'\n",
    "]\n",
    "\n",
    "colunas_para_manter = [\n",
    "    'companycode',\n",
    "    'ano',\n",
    "    'ativos_circulantes',\n",
    "    'passivos_circulantes',\n",
    "    'caixa_e_equivalentes_de_caixa',\n",
    "    'contas_a_receber',\n",
    "    'outros_ativos_circulantes',\n",
    "    'dívidas_financeiras',\n",
    "    'patrimônio_líquido',\n",
    "    'total_de_ativos',\n",
    "    'lucro_prejuízo_líquido_do_período',\n",
    "    'receita_de_vendas',\n",
    "    'lucro_prejuízo_operacional_líquido', \n",
    "    'custo_dos_produtos_serviços_vendidos', \n",
    "    'estoques',\n",
    "    'despesas_financeiras',\n",
    "    'lucros_prejuízos_acumulados',\n",
    "    'posição_cambial_líquida',\n",
    "    'lucro_operacional', \n",
    "    'amortização_e_quotas_de_exaustão',\n",
    "    'lucro_operacional_antes_das_mudanças_no_capital_de_giro',\n",
    "    'lucro_prejuízo_líquido_do_período_das_operações_continuadas',\n",
    "    'lucro_bruto_prejuízo_de_atividades_comerciais',\n",
    "]\n",
    "\n",
    "# Calcular a lista de colunas a serem REMOVIDAS\n",
    "colunas_para_remover = [col for col in todas_as_colunas if col not in colunas_para_manter]"
   ]
  },
  {
   "cell_type": "code",
   "execution_count": null,
   "id": "4099a326",
   "metadata": {},
   "outputs": [],
   "source": [
    "colunas_para_remover"
   ]
  },
  {
   "cell_type": "code",
   "execution_count": null,
   "id": "f56db0df",
   "metadata": {},
   "outputs": [],
   "source": [
    "df_clean = df.drop(columns=colunas_para_remover, errors='ignore')\n",
    "df_clean"
   ]
  },
  {
   "cell_type": "code",
   "execution_count": null,
   "id": "5a247d28",
   "metadata": {},
   "outputs": [],
   "source": [
    "df_clean['lucro_operacional_antes_das_mudanças_no_capital_de_giro'].isnull().sum()"
   ]
  },
  {
   "cell_type": "code",
   "execution_count": null,
   "id": "b2a3e7f8",
   "metadata": {},
   "outputs": [],
   "source": [
    "df_clean['lucro_operacional'].isnull().sum()"
   ]
  },
  {
   "cell_type": "code",
   "execution_count": null,
   "id": "ef6a11ea",
   "metadata": {},
   "outputs": [],
   "source": [
    "df_clean['amortização_e_quotas_de_exaustão'].isnull().sum()"
   ]
  },
  {
   "cell_type": "code",
   "execution_count": null,
   "id": "ac2d906b",
   "metadata": {},
   "outputs": [],
   "source": [
    "# Build do EBITDA ...\n",
    "''' Colunas EBITDA pode ser construido com EBIT + Depreciação/Amortização\n",
    "    1. Se EBITDA disponível, usar direto\n",
    "    2. Se não, usar EBIT + Amortização\n",
    "    3. Se ainda não disponível, aproximar como EBIT + 5% dos ativos totais\n",
    "'''\n",
    "\n",
    "df_clean.rename(columns={\n",
    "    \"lucro_operacional_antes_das_mudanças_no_capital_de_giro\": \"ebitda\",\n",
    "    \"lucro_operacional\": \"ebit\",\n",
    "    \"amortização_e_quotas_de_exaustão\": \"amortization\"\n",
    "}, inplace=True)\n",
    "\n",
    "df_clean[\"EBITDA_Final\"] = df_clean[\"ebit\"]\n",
    "\n",
    "# Fill with EBIT + Amortization where available\n",
    "df_clean.loc[df_clean[\"EBITDA_Final\"].isna() & df_clean[\"amortization\"].notna(),\n",
    "       \"EBITDA_Final\"] = df_clean[\"ebit\"] + df_clean[\"amortization\"]\n",
    "\n",
    "# If still missing, approximate using 5% of total assets\n",
    "df_clean.loc[df_clean[\"EBITDA_Final\"].isna(), \"EBITDA_Final\"] = (\n",
    "    df_clean.loc[df_clean[\"EBITDA_Final\"].isna(), \"ebit\"] + 0.05 * df_clean.loc[df_clean[\"EBITDA_Final\"].isna(), \"total_de_ativos\"]\n",
    ")\n",
    "\n",
    "# FLAG pra rastrear a origem do EBITDA\n",
    "df_clean[\"EBITDA_Source\"] = np.select(\n",
    "    [\n",
    "        df_clean[\"ebit\"].notna(),         \n",
    "        df_clean[\"amortization\"].notna()    \n",
    "    ],\n",
    "    [\n",
    "        \"Reported\",                      \n",
    "        \"Reconstructed\"                    \n",
    "    ],\n",
    "    default=\"Estimated\"                     \n",
    ").astype(\"object\")"
   ]
  },
  {
   "cell_type": "code",
   "execution_count": null,
   "id": "bd64206e",
   "metadata": {},
   "outputs": [],
   "source": [
    "df_clean"
   ]
  },
  {
   "cell_type": "code",
   "execution_count": null,
   "id": "48daf8e2",
   "metadata": {},
   "outputs": [],
   "source": [
    "df_clean.columns.to_list()"
   ]
  },
  {
   "cell_type": "code",
   "execution_count": null,
   "id": "1e9c49a8",
   "metadata": {},
   "outputs": [],
   "source": [
    "df_clean=df_clean.drop(['ebitda','EBITDA_Source'],axis=1)\n",
    "df_clean"
   ]
  },
  {
   "cell_type": "code",
   "execution_count": null,
   "id": "8b93de3c",
   "metadata": {},
   "outputs": [],
   "source": [
    "print(df_clean.isnull().sum().to_string())"
   ]
  },
  {
   "cell_type": "code",
   "execution_count": null,
   "id": "3ec88401",
   "metadata": {},
   "outputs": [],
   "source": [
    "# fill NA com mediana das colunas numericas que ainda tem NA\n",
    "df_clean = df_clean.fillna(df_clean.median(numeric_only=True))"
   ]
  },
  {
   "cell_type": "code",
   "execution_count": null,
   "id": "4e159d37",
   "metadata": {},
   "outputs": [],
   "source": [
    "print(df_clean.isnull().sum().to_string())"
   ]
  },
  {
   "cell_type": "code",
   "execution_count": null,
   "id": "55bd26e4",
   "metadata": {},
   "outputs": [],
   "source": [
    "df_clean = df_clean.rename(columns={\n",
    "    'lucro_prejuízo_líquido_do_período_das_operações_continuadas': 'lucro_liquido_op_continuas',\n",
    "    'custo_dos_produtos_serviços_vendidos': 'cogs', \n",
    "    'lucro__do_período': 'lucro_periodo',\n",
    "    'EBITDA_Final':'ebitda'\n",
    "})"
   ]
  },
  {
   "cell_type": "markdown",
   "id": "6b24b1fb",
   "metadata": {},
   "source": [
    "## Feature Engineering"
   ]
  },
  {
   "cell_type": "code",
   "execution_count": null,
   "id": "07114ff1",
   "metadata": {},
   "outputs": [],
   "source": [
    "from financial_ratios import create_financial_ratios\n",
    "\n",
    "df_with_ratios = create_financial_ratios(df_clean)"
   ]
  },
  {
   "cell_type": "code",
   "execution_count": null,
   "id": "470d919f",
   "metadata": {},
   "outputs": [],
   "source": [
    "df_with_ratios"
   ]
  },
  {
   "cell_type": "code",
   "execution_count": null,
   "id": "d12f4a6b",
   "metadata": {},
   "outputs": [],
   "source": [
    "print(df_with_ratios.isnull().sum().to_string())"
   ]
  },
  {
   "cell_type": "markdown",
   "id": "5c70a8b2",
   "metadata": {},
   "source": [
    "## Avaliação dos Indicadores Financeiros\n",
    "* Criação de thresholds para avaliar e criar notas para cada indicador financeiro criado na engenharia de features."
   ]
  },
  {
   "cell_type": "code",
   "execution_count": null,
   "id": "d0dc1ea4",
   "metadata": {},
   "outputs": [],
   "source": [
    "from score import score_financial_ratios\n",
    "df_scored = score_financial_ratios(df_with_ratios)"
   ]
  },
  {
   "cell_type": "code",
   "execution_count": null,
   "id": "77c89a3a",
   "metadata": {},
   "outputs": [],
   "source": [
    "df_scored"
   ]
  },
  {
   "cell_type": "code",
   "execution_count": null,
   "id": "d49f9896",
   "metadata": {},
   "outputs": [],
   "source": [
    "print(df_scored.isnull().sum().to_string())"
   ]
  },
  {
   "cell_type": "code",
   "execution_count": null,
   "id": "19121505",
   "metadata": {},
   "outputs": [],
   "source": [
    "df_scored['total_score'].mean()"
   ]
  },
  {
   "cell_type": "code",
   "execution_count": null,
   "id": "bb5324f5",
   "metadata": {},
   "outputs": [],
   "source": [
    "df_scored['total_score'].max()"
   ]
  },
  {
   "cell_type": "code",
   "execution_count": null,
   "id": "ff998f59",
   "metadata": {},
   "outputs": [],
   "source": [
    "df_scored['total_score'].min()"
   ]
  },
  {
   "cell_type": "code",
   "execution_count": null,
   "id": "7a385749",
   "metadata": {},
   "outputs": [],
   "source": [
    "df_scored['total_score'].unique()"
   ]
  },
  {
   "cell_type": "code",
   "execution_count": null,
   "id": "0e61ab2f",
   "metadata": {},
   "outputs": [],
   "source": [
    "df_scored['total_score'].nunique()"
   ]
  },
  {
   "cell_type": "code",
   "execution_count": null,
   "id": "116f56d6",
   "metadata": {},
   "outputs": [],
   "source": [
    "dicionario_colunas = {\n",
    "    # Ratios Originais\n",
    "    'current_ratio': 'liquidez_corrente',\n",
    "    'quick_ratio': 'liquidez_seca',\n",
    "    'debt_to_equity': 'divida_sobre_pl',\n",
    "    'debt_to_assets': 'divida_sobre_ativos',\n",
    "    'net_margin': 'margem_liquida',\n",
    "    'operating_margin': 'margem_operacional',\n",
    "    'asset_turnover': 'giro_do_ativo',\n",
    "    'inventory_turnover': 'giro_de_estoque',\n",
    "    'receivable_turnover': 'giro_de_recebiveis',\n",
    "    'interest_coverage': 'cobertura_de_juros',\n",
    "    'retained_to_assets': 'lucros_retidos_sobre_ativos',\n",
    "    'fx_position_ratio': 'razao_posicao_cambial',\n",
    "    'sales_growth': 'crescimento_vendas',\n",
    "    'asset_growth': 'crescimento_ativos',\n",
    "    'net_income_growth': 'crescimento_lucro_liquido',\n",
    "    'ebitda_margin': 'margem_ebitda',\n",
    "    'ebitda_to_interest': 'ebitda_sobre_juros',\n",
    "    'ebitda_to_debt': 'ebitda_sobre_divida',\n",
    "\n",
    "    # Colunas de Score\n",
    "    'score_ebitda_margin': 'pontuacao_margem_ebitda',\n",
    "    'score_ebitda_to_interest': 'pontuacao_ebitda_sobre_juros',\n",
    "    'score_ebitda_to_debt': 'pontuacao_ebitda_sobre_divida',\n",
    "    'score_roe': 'pontuacao_roe',\n",
    "    'score_roa': 'pontuacao_roa',\n",
    "    'score_net_margin': 'pontuacao_margem_liquida',\n",
    "    'score_operating_margin': 'pontuacao_margem_operacional',\n",
    "    'score_current_ratio': 'pontuacao_liquidez_corrente',\n",
    "    'score_quick_ratio': 'pontuacao_liquidez_seca',\n",
    "    'score_debt_to_equity': 'pontuacao_divida_sobre_pl',\n",
    "    'score_debt_to_assets': 'pontuacao_divida_sobre_ativos',\n",
    "    'score_interest_coverage': 'pontuacao_cobertura_de_juros',\n",
    "    'score_retained_to_assets': 'pontuacao_lucros_retidos_sobre_ativos',\n",
    "    'score_asset_turnover': 'pontuacao_giro_do_ativo',\n",
    "    'score_inventory_turnover': 'pontuacao_giro_de_estoque',\n",
    "    'score_receivable_turnover': 'pontuacao_giro_de_recebiveis',\n",
    "    'score_sales_growth': 'pontuacao_crescimento_vendas',\n",
    "    'score_asset_growth': 'pontuacao_crescimento_ativos',\n",
    "    'score_net_income_growth': 'pontuacao_crescimento_lucro_liquido',\n",
    "    'score_fx_position_ratio': 'pontuacao_razao_posicao_cambial',\n",
    "    'ebitda_final': 'ebitda',\n",
    "}\n",
    "\n",
    "# --- Como Usar ---\n",
    "# Assumindo que seu dataframe se chama df_modelo_final\n",
    "\n",
    "df_model = df_scored.rename(columns=dicionario_colunas)\n",
    "\n",
    "# Verificar o resultado\n",
    "print(\"Colunas renomeadas:\")\n",
    "print(df_model.columns.to_list())"
   ]
  },
  {
   "cell_type": "code",
   "execution_count": null,
   "id": "aeec061b",
   "metadata": {},
   "outputs": [],
   "source": [
    "df_model"
   ]
  },
  {
   "cell_type": "markdown",
   "id": "b3019291",
   "metadata": {},
   "source": [
    "### EDA Automatico do yData"
   ]
  },
  {
   "cell_type": "code",
   "execution_count": null,
   "id": "7cc7dc76",
   "metadata": {},
   "outputs": [],
   "source": [
    "'''\n",
    "from ydata_profiling import ProfileReport\n",
    "\n",
    "profile = ProfileReport(\n",
    "    df_model,\n",
    "    title=\"Credit Default EDA (Minimal)\",\n",
    "    explorative=True,   # less visual complexity, faster\n",
    "    minimal=False,        \n",
    "    progress_bar=True\n",
    ")\n",
    "\n",
    "profile.to_file(\"FINAL_EDA_MODEL.html\")\n",
    "print(\" EDA report generated successfully: FINAL_EDA_MODEL.html\")\n",
    "'''"
   ]
  },
  {
   "cell_type": "markdown",
   "id": "12273510",
   "metadata": {},
   "source": [
    "### Correlações Gerais"
   ]
  },
  {
   "cell_type": "code",
   "execution_count": null,
   "id": "a728df73",
   "metadata": {},
   "outputs": [],
   "source": [
    "df_corr = df_model.copy()\n",
    "df_corr = df_corr.drop(columns=['companycode', 'ano'])"
   ]
  },
  {
   "cell_type": "code",
   "execution_count": null,
   "id": "020bf54c",
   "metadata": {},
   "outputs": [],
   "source": [
    "# Calculate correlation matrix\n",
    "corr_matrix = df_corr.corr()"
   ]
  },
  {
   "cell_type": "code",
   "execution_count": null,
   "id": "e60d5b48",
   "metadata": {},
   "outputs": [],
   "source": [
    "corrs=corr_matrix.loc['total_score'].drop('total_score').sort_values(ascending=False)\n",
    "corrs"
   ]
  },
  {
   "cell_type": "code",
   "execution_count": null,
   "id": "5ac278cc",
   "metadata": {},
   "outputs": [],
   "source": [
    "import phik\n",
    "from phik import resources, report\n",
    "phi_k_corr = df_corr.phik_matrix()\n",
    "phi_k_corr"
   ]
  },
  {
   "cell_type": "code",
   "execution_count": null,
   "id": "86c35c89",
   "metadata": {},
   "outputs": [],
   "source": [
    "phik_corrs=phi_k_corr.loc['total_score'].drop('total_score').sort_values(ascending=False)\n",
    "phik_corrs"
   ]
  },
  {
   "cell_type": "code",
   "execution_count": null,
   "id": "7cb4d24e",
   "metadata": {},
   "outputs": [],
   "source": [
    "df_model=df_model.drop(columns=['pontuacao_margem_ebitda',\n",
    "'pontuacao_ebitda_sobre_juros',\n",
    "'pontuacao_ebitda_sobre_divida',\n",
    "'pontuacao_roe',\n",
    "'pontuacao_roa',\n",
    "'pontuacao_margem_liquida',\n",
    "'pontuacao_margem_operacional',\n",
    "'pontuacao_liquidez_corrente',\n",
    "'pontuacao_liquidez_seca',\n",
    "'pontuacao_divida_sobre_pl',\n",
    "'pontuacao_divida_sobre_ativos',\n",
    "'pontuacao_cobertura_de_juros',\n",
    "'pontuacao_lucros_retidos_sobre_ativos',\n",
    "'pontuacao_giro_do_ativo',\n",
    "'pontuacao_giro_de_estoque',\n",
    "'pontuacao_giro_de_recebiveis',\n",
    "'pontuacao_crescimento_vendas',\n",
    "'pontuacao_crescimento_ativos',\n",
    "'pontuacao_crescimento_lucro_liquido',\n",
    "'pontuacao_razao_posicao_cambial'],axis=1)"
   ]
  },
  {
   "cell_type": "code",
   "execution_count": null,
   "id": "f4451d1f",
   "metadata": {},
   "outputs": [],
   "source": [
    "df_model.to_csv('C:/Users/gregorio/TCC-CD-USP/archives/df_model.csv', index=False)"
   ]
  }
 ],
 "metadata": {
  "kernelspec": {
   "display_name": "venv (3.13.7)",
   "language": "python",
   "name": "python3"
  },
  "language_info": {
   "codemirror_mode": {
    "name": "ipython",
    "version": 3
   },
   "file_extension": ".py",
   "mimetype": "text/x-python",
   "name": "python",
   "nbconvert_exporter": "python",
   "pygments_lexer": "ipython3",
   "version": "3.13.9"
  }
 },
 "nbformat": 4,
 "nbformat_minor": 5
}
